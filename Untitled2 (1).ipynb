{
  "nbformat": 4,
  "nbformat_minor": 0,
  "metadata": {
    "colab": {
      "provenance": []
    },
    "kernelspec": {
      "name": "python3",
      "display_name": "Python 3"
    },
    "language_info": {
      "name": "python"
    }
  },
  "cells": [
    {
      "cell_type": "code",
      "execution_count": null,
      "metadata": {
        "id": "CUJvsHoZm_tB"
      },
      "outputs": [],
      "source": []
    },
    {
      "cell_type": "markdown",
      "source": [
        "# Assignment 1 (Python Basics) :-\n",
        "\n",
        "THEORY QUESTIONS :"
      ],
      "metadata": {
        "id": "vQCxC-msndep"
      }
    },
    {
      "cell_type": "markdown",
      "source": [
        "1. What is Python, and why is it popular ?\n",
        "  - Python is a high-level interpreted programming language known for its\n",
        "  -implicity, readability, and versatility.\n",
        "  -It was created by Guido van Rossum and first released in 1991.\n",
        "   Python is widely used for a variety of applications, from web development to data analysis, artificial intelligence, and scientific computing.\n",
        "\n",
        "   -Easy to Learn\n",
        "   -Versatile\n",
        "   -Large Standard Library\n",
        "   -Active Community\n",
        "   -Cross-Platform\n",
        "\n",
        "\n",
        "\n",
        "2. What is an interpreter in Python ?\n",
        "  - An interpreter in Python is a program that reads and executes Python code\n",
        "   line by line, converting it into machine-readable instructions for the computer to execute.\n",
        "  - Unlike a compiler, which translates the entire program into machine code\n",
        "   before execution, an interpreter processes the code incrementally.\n",
        "\n",
        "\n",
        "\n",
        "3. What are pre-defined keywords in Python ?\n",
        "  - Pre-defined keywords in Python are reserved words that have specific\n",
        "   meanings and purposes in the language.\n",
        "  - These keywords are part of Python's syntax and cannot be used as  \n",
        "   identifiers (e.g., variable names, function names).\n",
        "\n",
        "  -Common Keywords in Python:\n",
        "  if, else, for, while, break, continue,try, except, finally, raise. def, class, lambda, global, nonlocal. and, or, not, is, in.\n",
        "\n",
        "\n",
        "\n",
        "4. Can keywords be used as variable names ?\n",
        "  - No, keywords cannot be used as variable names in Python. Keywords are\n",
        "   reserved words with specific meanings and roles in the language, so using them as variable names would cause syntax errors.\n",
        "  - WHY NOT :-\n",
        "  - Keywords are an integral part of Python's syntax.\n",
        "   Allowing them as variable names would create ambiguiti and make the code difficult to pass.\n",
        "\n",
        "\n",
        "5. What is mutability in Python ?\n",
        "  - Mutability in Python refers to the ability of an object to be modified  \n",
        "  after it has been created.\n",
        "  -Depending on whether an object can be changed or not, Python objects are classified as either mutable or immutable.\n",
        "\n",
        "\n",
        "6. Why are lists mutable, but tuples are immutable ?\n",
        "\n",
        "   - The distinction between lists being mutable and tuples being immutable in\n",
        "     Python stems from their intended use cases, efficiency considerations, and implementation.\n",
        "\n",
        "     1. Use Cases and Design Intent\n",
        "     2. Implementation Efficiency\n",
        "     3. Hashability\n",
        "     4. Safety and Predictability\n",
        "\n",
        "     Summary :-\n",
        "\n",
        "     The mutability of lists and the immutability of tuples align with their respective purposes:\n",
        "      - Lists prioritize flexibility for dynamic data handling.\n",
        "      - Tuples prioritize safety, efficiency, and immutability for fixed collections of data.\n",
        "\n",
        "     This distinction provides Python programmers with the tools to choose the right data structure for the job.\n",
        "\n",
        "\n",
        "7. What is the difference between “==” and “is” operators in Python ?\n",
        "  \n",
        "  - Compares the values of two objects for equality.\n",
        "  - is:  Checks whether two objects refer to the same memory location (i.e.,\n",
        "   they are the same object).\n",
        "   == (Equality Operator):\n",
        " - Compares the values of two objects.\n",
        "  Returns True if the values of the objects are equal, even if they are stored in different memory locations.\n",
        "  - Example\n",
        "     \n",
        "     a = [1, 2, 3]\n",
        "\n",
        "     b = [1, 2, 3]\n",
        "\n",
        "    print(a == b)\n",
        "\n",
        "\n",
        "   - (Identity Operator) :-\n",
        "    \n",
        "      - Compares the identity of two objects (i.e., whether they are the same object in memory).\n",
        "      - Returns True if both objects refer to the exact same memory location.\n",
        "\n",
        "  Example :-\n",
        "\n",
        "      a = [1, 2, 3]\n",
        "\n",
        "    b = [1, 2, 3]\n",
        "\n",
        "   print(a is b)\n",
        "\n",
        "\n",
        "\n",
        "\n",
        "8. What are logical operators in Python ?\n",
        "\n",
        "   1. and: Returns True if both conditions are true.\n",
        "\n",
        "   example :-  \n",
        "    \n",
        "    x = 5\n",
        "\n",
        "   print(x > 2 and x < 10)  # True\n",
        "\n",
        "   2. or: Returns True if at least one condition is true.\n",
        "\n",
        "   Example :-  \n",
        "\n",
        "   x = 5\n",
        "    \n",
        "   print(x > 2 or x > 10)  # True\n",
        "\n",
        "   3. not: Reverses the result; returns True if the condition is false.\n",
        "\n",
        "  Example:-\n",
        "\n",
        "  x = 5\n",
        "\n",
        "  print(not (x > 10))  # True\n",
        "\n",
        "9. What is type casting in Python?\n",
        "\n",
        "   - Type casting in Python is the process of converting one data type into another. It can be done explicitly (manually by the programmer) or implicitly (automatically by Python when appropriate).\n",
        "   -Type casting is useful when you need to change the type of a variable to perform certain operations or meet specific requirements.\n",
        "\n",
        "   Explicit Type Casting:-\n",
        "       - int()\n",
        "       - float()\n",
        "       - str()\n",
        "       - list()\n",
        "       - tupple()\n",
        "       - bool()\n",
        "\n",
        "   Implicit Type Casting:-\n",
        "\n",
        "   - Python automatically converts data types when required during operations, ensuring compatibility without loss of precision.\n",
        "\n",
        "10. What is the difference between implicit and explicit type casting?\n",
        "\n",
        "     Implicit Type Casting:-\n",
        "\n",
        "    - Definition: Python automatically converts one data type to another when it is safe to do so without the need for explicit instruction from the programmer.\n",
        "    - Purpose: Ensures compatibility between data types during operations without loss of information.\n",
        "    - Example:-\n",
        "\n",
        "       x = 5      \n",
        "       y = 2.5    \n",
        "       z = x + y  \n",
        "       print(z)  \n",
        "\n",
        "     Explicit Type Casting:-\n",
        "\n",
        "    - Definition: The programmer manually converts a variable from one data type to another using built-in functions like int(), float(), str(), etc.\n",
        "    - Purpose: Provides control over type conversion when automatic conversion is not feasible or desired.\n",
        "    - Example:-\n",
        "\n",
        "     x = \"10\"       \n",
        "     y = int(x)     \n",
        "     print(y + 5)  \n",
        "\n",
        "\n",
        "11. What is the purpose of conditional statements in Python?\n",
        "\n",
        "   - The purpose of conditional statements in Python is to allow a program to make decisions and execute different blocks of code based on specific conditions. They enable dynamic behavior, where the flow of execution can change depending on the input or state of the program.\n",
        "\n",
        "   Common Conditional Statements in Python:-\n",
        "\n",
        "     1. if Statement\n",
        "     2. if-else Statement\n",
        "     3. if-elif-else Statement\n",
        "     4. Nested if Statements\n",
        "    \n",
        "  - Example:-\n",
        "     in grading system\n",
        "\n",
        "\n",
        "12. How does the elif statement work?\n",
        "   - The elif statement in Python stands for \"else if\" and is used to evaluate multiple conditions in a sequence. It works as an extension of an if statement to check additional conditions if the previous conditions were False.\n",
        "\n",
        "   - How It Works:-\n",
        "       1. Python evaluates the if condition first\n",
        "       2. If the if condition is False, it evaluates the elif condition(s) in the order they appear.\n",
        "       3. If an elif condition evaluates to True, its associated block of code is executed, and Python skips the remaining elif and else blocks.\n",
        "       4. If none of the conditions in the if and elif statements are True, the else block (if present) is executed.\n",
        "   - Example:-\n",
        "\n",
        "        x = 15\n",
        "\n",
        "        if x < 10:\n",
        "            print(\"x is less than 10\")\n",
        "        elif x == 10:\n",
        "            print(\"x is equal to 10\")\n",
        "        elif x > 10 and x <= 20:\n",
        "            print(\"x is between 11 and 20\")\n",
        "        else:\n",
        "            print(\"x is greater than 20\")\n",
        "\n",
        "\n",
        "13. What is the difference between for and while loops?\n",
        "  - 1. for Loop:-\n",
        "       - Purpose: Iterates over a sequence (e.g., list, tuple, string, range, or other iterable) and executes a block of code for each element in the sequence.\n",
        "       - Use Case: When the number of iterations is known or when iterating over a collection\n",
        "\n",
        "  - 2. while loop:-\n",
        "      - Purpose: Repeats a block of code as long as a condition is True.\n",
        "      - Use Case: When the number of iterations is not known beforehand, but a condition dictates the loop's continuation\n",
        "\n",
        "\n",
        "14. Describe a scenario where a while loop is more suitable than a for loop.?\n",
        "   - A while loop is more suitable than a for loop in situations where the number of iterations cannot be determined in advance and the loop needs to execute until a specific condition is meet.\n",
        "   - Example:-\n",
        "\n",
        "        - Suppose you're building a program that requires a user to enter a valid password. The program should keep prompting the user until they enter the correct password. In this case, you cannot know beforehand how many attempts the user will need, making a while loop the better choice.\n",
        "\n",
        "        correct_password = \"python123\"\n",
        "\n",
        "        user_input = \"\"\n",
        "\n",
        "        while user_input != correct_password:\n",
        "\n",
        "            user_input = input(\"Enter the password: \")\n",
        "\n",
        "            if user_input != correct_password:\n",
        "\n",
        "           print(\"Incorrect password. Try again.\")\n",
        "          \n",
        "       print(\"Access granted!\")\n",
        "\n",
        "\n",
        "\n",
        "# Practical Questions:-\n",
        "\n",
        "\n",
        "\n",
        "\n",
        "\n",
        "      \n",
        "\n",
        "     \n",
        "\n",
        "      \n",
        "     \n",
        "\n",
        "   \n",
        "   \n"
      ],
      "metadata": {
        "id": "RP-7zz7nn8oX"
      }
    },
    {
      "cell_type": "code",
      "source": [
        "#  Write a Python program to print \"Hello, World!\n",
        "\n",
        "print(\"Hello, World!\")"
      ],
      "metadata": {
        "colab": {
          "base_uri": "https://localhost:8080/"
        },
        "id": "k_jBd4W97hyI",
        "outputId": "e048a764-91ef-44d2-f034-88620224c082"
      },
      "execution_count": 1,
      "outputs": [
        {
          "output_type": "stream",
          "name": "stdout",
          "text": [
            "Hello, World!\n"
          ]
        }
      ]
    },
    {
      "cell_type": "code",
      "source": [
        "# Write a Python program that displays your name and age\n",
        "\n",
        "  # Python program to display name and age\n",
        "name = \"girish patil\"\n",
        "age = 22\n",
        "\n",
        "print(\"My name is\", name)\n",
        "print(\"I am\", age, \"years old\")\n"
      ],
      "metadata": {
        "colab": {
          "base_uri": "https://localhost:8080/"
        },
        "id": "gqKhShs688ld",
        "outputId": "5af8ac9e-4893-44f5-aba8-4182a572dc83"
      },
      "execution_count": 4,
      "outputs": [
        {
          "output_type": "stream",
          "name": "stdout",
          "text": [
            "My name is girish patil\n",
            "I am 22 years old\n"
          ]
        }
      ]
    },
    {
      "cell_type": "code",
      "source": [
        "# Write code to print all the pre-defined keywords in Python using the keyword library.\n",
        "\n",
        "# Importing the keyword library\n",
        "import keyword\n",
        "\n",
        "# Display all pre-defined keywords in Python\n",
        "print(\"Python Keywords:\")\n",
        "print(keyword.kwlist)\n"
      ],
      "metadata": {
        "colab": {
          "base_uri": "https://localhost:8080/"
        },
        "id": "tHExYpfc9YVh",
        "outputId": "4b487a71-bf3f-42ef-ba10-4fd612bd5af9"
      },
      "execution_count": 5,
      "outputs": [
        {
          "output_type": "stream",
          "name": "stdout",
          "text": [
            "Python Keywords:\n",
            "['False', 'None', 'True', 'and', 'as', 'assert', 'async', 'await', 'break', 'class', 'continue', 'def', 'del', 'elif', 'else', 'except', 'finally', 'for', 'from', 'global', 'if', 'import', 'in', 'is', 'lambda', 'nonlocal', 'not', 'or', 'pass', 'raise', 'return', 'try', 'while', 'with', 'yield']\n"
          ]
        }
      ]
    },
    {
      "cell_type": "code",
      "source": [
        "# Write a program that checks if a given word is a Python keyword.\n",
        "\n",
        "# Importing the keyword library\n",
        "import keyword\n",
        "\n",
        "word = input(\"Enter a word: \")\n",
        "\n",
        "if keyword.iskeyword(word):\n",
        "    print(f\"'{word}' is a Python keyword.\")\n",
        "else:\n",
        "    print(f\"'{word}' is not a Python keyword.\")\n"
      ],
      "metadata": {
        "colab": {
          "base_uri": "https://localhost:8080/"
        },
        "id": "02HGjfDn9zNR",
        "outputId": "cfc3370c-7dd3-48a8-d633-d30b9a3eb052"
      },
      "execution_count": 7,
      "outputs": [
        {
          "output_type": "stream",
          "name": "stdout",
          "text": [
            "Enter a word: girish\n",
            "'girish' is not a Python keyword.\n"
          ]
        }
      ]
    },
    {
      "cell_type": "code",
      "source": [
        "# Create a list and tuple in Python, and demonstrate how attempting to change an element works differently for each.\n",
        "\n",
        "# Creating a list and a tuple\n",
        "my_list = [1, 2, 3]\n",
        "my_tuple = (1, 2, 3)\n",
        "\n",
        "# Attempting to change an element in the list\n",
        "print(\"Original list:\", my_list)\n",
        "my_list[1] = 20\n",
        "print(\"Modified list:\", my_list)\n",
        "\n",
        "# Attempting to change an element in the tuple\n",
        "print(\"\\nOriginal tuple:\", my_tuple)\n",
        "try:\n",
        "    my_tuple[1] = 20\n",
        "except TypeError as e:\n",
        "    print(\"Error:\", e)\n"
      ],
      "metadata": {
        "colab": {
          "base_uri": "https://localhost:8080/"
        },
        "id": "XhoPPcXd-RO9",
        "outputId": "4dd37f1b-6b6f-446c-db1a-f49b713afac1"
      },
      "execution_count": 8,
      "outputs": [
        {
          "output_type": "stream",
          "name": "stdout",
          "text": [
            "Original list: [1, 2, 3]\n",
            "Modified list: [1, 20, 3]\n",
            "\n",
            "Original tuple: (1, 2, 3)\n",
            "Error: 'tuple' object does not support item assignment\n"
          ]
        }
      ]
    },
    {
      "cell_type": "code",
      "source": [],
      "metadata": {
        "id": "ccJIz_VX-8P-"
      },
      "execution_count": null,
      "outputs": []
    },
    {
      "cell_type": "code",
      "source": [
        "# Write a function to demonstrate the behavior of mutable and immutable arguments\n",
        "\n",
        "def modify_values(mutable_obj, immutable_obj):\n",
        "    # Modifying the mutable object (e.g., list)\n",
        "    mutable_obj.append(100)\n",
        "    print(\"Inside function - Mutable object:\", mutable_obj)\n",
        "\n",
        "    # Attempting to modify the immutable object\n",
        "    immutable_obj += 10\n",
        "    print(\"Inside function - Immutable object:\", immutable_obj)\n",
        "\n",
        "my_list = [1, 2, 3]\n",
        "\n",
        "my_number = 50\n",
        "\n",
        "print(\"Before function call:\")\n",
        "print(\"Mutable object:\", my_list)\n",
        "print(\"Immutable object:\", my_number)\n",
        "\n",
        "\n",
        "modify_values(my_list, my_number)\n",
        "\n",
        "print(\"\\nAfter function call:\")\n",
        "print(\"Mutable object:\", my_list)\n",
        "print(\"Immutable object:\", my_number)\n"
      ],
      "metadata": {
        "colab": {
          "base_uri": "https://localhost:8080/"
        },
        "id": "qYF85xNw_Kxv",
        "outputId": "4904a0d4-3d50-4bf8-940f-ca03c6a35be4"
      },
      "execution_count": 9,
      "outputs": [
        {
          "output_type": "stream",
          "name": "stdout",
          "text": [
            "Before function call:\n",
            "Mutable object: [1, 2, 3]\n",
            "Immutable object: 50\n",
            "Inside function - Mutable object: [1, 2, 3, 100]\n",
            "Inside function - Immutable object: 60\n",
            "\n",
            "After function call:\n",
            "Mutable object: [1, 2, 3, 100]\n",
            "Immutable object: 50\n"
          ]
        }
      ]
    },
    {
      "cell_type": "code",
      "source": [
        "#  Write a program to demonstrate the use of logical operators\n",
        "\n",
        "\n",
        "\n",
        "x = int(input(\"Enter a number (x): \"))\n",
        "y = int(input(\"Enter another number (y): \"))\n",
        "\n",
        "if x > 0 and y > 0:\n",
        "    print(\"Both x and y are positive.\")\n",
        "\n",
        "if x > 0 or y > 0:\n",
        "    print(\"At least one of x or y is positive.\")\n",
        "\n",
        "if not (x > 0 and y > 0):\n",
        "    print(\"At least one of x or y is not positive.\")\n",
        "\n"
      ],
      "metadata": {
        "colab": {
          "base_uri": "https://localhost:8080/"
        },
        "id": "VTb9Iheu_omi",
        "outputId": "812f3798-7bb1-4db0-a4a9-40dc7f7f67ad"
      },
      "execution_count": 13,
      "outputs": [
        {
          "output_type": "stream",
          "name": "stdout",
          "text": [
            "Enter a number (x): 5\n",
            "Enter another number (y): 88\n",
            "Both x and y are positive.\n",
            "At least one of x or y is positive.\n"
          ]
        }
      ]
    },
    {
      "cell_type": "code",
      "source": [
        "#  Write a Python program to convert user input from string to integer, float, and boolean types\n",
        "\n",
        "\n",
        "user_input = input(\"Enter a value: \")\n",
        ")\n",
        "try:\n",
        "    int_value = int(user_input)\n",
        "    print(\"Converted to integer:\", int_value)\n",
        "except ValueError:\n",
        "    print(\"Cannot convert to integer.\")\n",
        "\n",
        "try:\n",
        "    float_value = float(user_input)\n",
        "    print(\"Converted to float:\", float_value)\n",
        "except ValueError:\n",
        "    print(\"Cannot convert to float.\")\n",
        "\n",
        "if user_input.lower() in ['true', '1', 'yes']:\n",
        "    bool_value = True\n",
        "else:\n",
        "    bool_value = False\n",
        "\n",
        "print(\"Converted to boolean:\", bool_value)\n"
      ],
      "metadata": {
        "colab": {
          "base_uri": "https://localhost:8080/",
          "height": 110
        },
        "id": "IwWLUqzOAu-n",
        "outputId": "4406a009-baf4-4712-cf71-8872282022ea"
      },
      "execution_count": 14,
      "outputs": [
        {
          "output_type": "error",
          "ename": "SyntaxError",
          "evalue": "unmatched ')' (<ipython-input-14-a915dce835dd>, line 5)",
          "traceback": [
            "\u001b[0;36m  File \u001b[0;32m\"<ipython-input-14-a915dce835dd>\"\u001b[0;36m, line \u001b[0;32m5\u001b[0m\n\u001b[0;31m    )\u001b[0m\n\u001b[0m    ^\u001b[0m\n\u001b[0;31mSyntaxError\u001b[0m\u001b[0;31m:\u001b[0m unmatched ')'\n"
          ]
        }
      ]
    },
    {
      "cell_type": "code",
      "source": [
        "# Write code to demonstrate type casting with list elements\n",
        "\n",
        "original_list = [\"1\", \"3.14\", \"True\", \"100\"]\n",
        "\n",
        "\n",
        "int_list = [int(i) for i in original_list if i.isdigit()]\n",
        "print(\"List with integer elements:\", int_list)\n",
        "\n",
        "\n",
        "float_list = [float(i) if '.' in i else int(i) for i in original_list]\n",
        "print(\"List with float and integer elements:\", float_list)\n",
        "\n",
        "\n",
        "bool_list = [True if i.lower() == \"true\" else False for i in original_list]\n",
        "print(\"List with boolean elements:\", bool_list)\n"
      ],
      "metadata": {
        "colab": {
          "base_uri": "https://localhost:8080/",
          "height": 365
        },
        "id": "M842vLO1BJVV",
        "outputId": "6221670a-207e-42b6-df59-298d3826da21"
      },
      "execution_count": 15,
      "outputs": [
        {
          "output_type": "stream",
          "name": "stdout",
          "text": [
            "List with integer elements: [1, 100]\n"
          ]
        },
        {
          "output_type": "error",
          "ename": "ValueError",
          "evalue": "invalid literal for int() with base 10: 'True'",
          "traceback": [
            "\u001b[0;31m---------------------------------------------------------------------------\u001b[0m",
            "\u001b[0;31mValueError\u001b[0m                                Traceback (most recent call last)",
            "\u001b[0;32m<ipython-input-15-07c007a3ebf1>\u001b[0m in \u001b[0;36m<cell line: 10>\u001b[0;34m()\u001b[0m\n\u001b[1;32m      8\u001b[0m \u001b[0;34m\u001b[0m\u001b[0m\n\u001b[1;32m      9\u001b[0m \u001b[0;34m\u001b[0m\u001b[0m\n\u001b[0;32m---> 10\u001b[0;31m \u001b[0mfloat_list\u001b[0m \u001b[0;34m=\u001b[0m \u001b[0;34m[\u001b[0m\u001b[0mfloat\u001b[0m\u001b[0;34m(\u001b[0m\u001b[0mi\u001b[0m\u001b[0;34m)\u001b[0m \u001b[0;32mif\u001b[0m \u001b[0;34m'.'\u001b[0m \u001b[0;32min\u001b[0m \u001b[0mi\u001b[0m \u001b[0;32melse\u001b[0m \u001b[0mint\u001b[0m\u001b[0;34m(\u001b[0m\u001b[0mi\u001b[0m\u001b[0;34m)\u001b[0m \u001b[0;32mfor\u001b[0m \u001b[0mi\u001b[0m \u001b[0;32min\u001b[0m \u001b[0moriginal_list\u001b[0m\u001b[0;34m]\u001b[0m\u001b[0;34m\u001b[0m\u001b[0;34m\u001b[0m\u001b[0m\n\u001b[0m\u001b[1;32m     11\u001b[0m \u001b[0mprint\u001b[0m\u001b[0;34m(\u001b[0m\u001b[0;34m\"List with float and integer elements:\"\u001b[0m\u001b[0;34m,\u001b[0m \u001b[0mfloat_list\u001b[0m\u001b[0;34m)\u001b[0m\u001b[0;34m\u001b[0m\u001b[0;34m\u001b[0m\u001b[0m\n\u001b[1;32m     12\u001b[0m \u001b[0;34m\u001b[0m\u001b[0m\n",
            "\u001b[0;32m<ipython-input-15-07c007a3ebf1>\u001b[0m in \u001b[0;36m<listcomp>\u001b[0;34m(.0)\u001b[0m\n\u001b[1;32m      8\u001b[0m \u001b[0;34m\u001b[0m\u001b[0m\n\u001b[1;32m      9\u001b[0m \u001b[0;34m\u001b[0m\u001b[0m\n\u001b[0;32m---> 10\u001b[0;31m \u001b[0mfloat_list\u001b[0m \u001b[0;34m=\u001b[0m \u001b[0;34m[\u001b[0m\u001b[0mfloat\u001b[0m\u001b[0;34m(\u001b[0m\u001b[0mi\u001b[0m\u001b[0;34m)\u001b[0m \u001b[0;32mif\u001b[0m \u001b[0;34m'.'\u001b[0m \u001b[0;32min\u001b[0m \u001b[0mi\u001b[0m \u001b[0;32melse\u001b[0m \u001b[0mint\u001b[0m\u001b[0;34m(\u001b[0m\u001b[0mi\u001b[0m\u001b[0;34m)\u001b[0m \u001b[0;32mfor\u001b[0m \u001b[0mi\u001b[0m \u001b[0;32min\u001b[0m \u001b[0moriginal_list\u001b[0m\u001b[0;34m]\u001b[0m\u001b[0;34m\u001b[0m\u001b[0;34m\u001b[0m\u001b[0m\n\u001b[0m\u001b[1;32m     11\u001b[0m \u001b[0mprint\u001b[0m\u001b[0;34m(\u001b[0m\u001b[0;34m\"List with float and integer elements:\"\u001b[0m\u001b[0;34m,\u001b[0m \u001b[0mfloat_list\u001b[0m\u001b[0;34m)\u001b[0m\u001b[0;34m\u001b[0m\u001b[0;34m\u001b[0m\u001b[0m\n\u001b[1;32m     12\u001b[0m \u001b[0;34m\u001b[0m\u001b[0m\n",
            "\u001b[0;31mValueError\u001b[0m: invalid literal for int() with base 10: 'True'"
          ]
        }
      ]
    },
    {
      "cell_type": "code",
      "source": [
        "# Write a program that checks if a number is positive, negative, or zero\n",
        "\n",
        " # Program to check if a number is positive, negative, or zero\n",
        "\n",
        "\n",
        "num = float(input(\"Enter a number: \"))\n",
        "\n",
        "# Check if the number is positive, negative, or zero\n",
        "if num > 0:\n",
        "    print(f\"{num} is positive.\")\n",
        "elif num < 0:\n",
        "    print(f\"{num} is negative.\")\n",
        "else:\n",
        "    print(f\"{num} is zero.\")\n"
      ],
      "metadata": {
        "colab": {
          "base_uri": "https://localhost:8080/"
        },
        "id": "VQ1lQPZlBdKq",
        "outputId": "2c0c92ea-76e6-4ec0-cd40-217be2ef2ffa"
      },
      "execution_count": 16,
      "outputs": [
        {
          "output_type": "stream",
          "name": "stdout",
          "text": [
            "Enter a number: 45\n",
            "45.0 is positive.\n"
          ]
        }
      ]
    },
    {
      "cell_type": "code",
      "source": [
        "# Write a for loop to print numbers from 1 to 10\n",
        "\n",
        "# Program to print numbers from 1 to 10 using a for loop\n",
        "\n",
        "for num in range(1, 11):\n",
        "    print(num)\n"
      ],
      "metadata": {
        "colab": {
          "base_uri": "https://localhost:8080/"
        },
        "id": "3LzZt7HbBtZa",
        "outputId": "a75ade96-03c3-483b-d583-c3587ee1f6e3"
      },
      "execution_count": 17,
      "outputs": [
        {
          "output_type": "stream",
          "name": "stdout",
          "text": [
            "1\n",
            "2\n",
            "3\n",
            "4\n",
            "5\n",
            "6\n",
            "7\n",
            "8\n",
            "9\n",
            "10\n"
          ]
        }
      ]
    },
    {
      "cell_type": "code",
      "source": [
        "# Write a Python program to find the sum of all even numbers between 1 and 50.\n",
        "\n",
        "# Program to find the sum of all even numbers between 1 and 50\n",
        "\n",
        "sum_of_evens = 0\n",
        "\n",
        "for num in range(1, 51):\n",
        "    if num % 2 == 0:\n",
        "        sum_of_evens += num\n",
        "\n",
        "print(\"The sum of all even numbers between 1 and 50 is:\", sum_of_evens)\n"
      ],
      "metadata": {
        "colab": {
          "base_uri": "https://localhost:8080/"
        },
        "id": "uGcFpchQCLtz",
        "outputId": "216485bb-3a0f-4a37-dbcc-524681b19870"
      },
      "execution_count": 18,
      "outputs": [
        {
          "output_type": "stream",
          "name": "stdout",
          "text": [
            "The sum of all even numbers between 1 and 50 is: 650\n"
          ]
        }
      ]
    },
    {
      "cell_type": "code",
      "source": [
        "# Write a program to reverse a string using a while loop\n",
        "\n",
        "\n",
        "user_input = input(\"Enter a string: \")\n",
        "\n",
        "reversed_string = \"\"\n",
        "index = len(user_input) - 1\n",
        "\n",
        "while index >= 0:\n",
        "    reversed_string += user_input[index]\n",
        "    index -= 1\n",
        "\n",
        "print(\"Reversed string:\", reversed_string)\n"
      ],
      "metadata": {
        "colab": {
          "base_uri": "https://localhost:8080/"
        },
        "id": "QykKlH1aCau0",
        "outputId": "504fc703-7873-4cc6-811d-ac76dbd8aa73"
      },
      "execution_count": 19,
      "outputs": [
        {
          "output_type": "stream",
          "name": "stdout",
          "text": [
            "Enter a string: girish\n",
            "Reversed string: hsirig\n"
          ]
        }
      ]
    },
    {
      "cell_type": "code",
      "source": [
        "# Write a Python program to calculate the factorial of a number provided by the user using a while loop.\n",
        "\n",
        "\n",
        "num = int(input(\"Enter a number: \"))\n",
        "\n",
        "factorial = 1\n",
        "\n",
        "if num < 0:\n",
        "    print(\"Factorial does not exist for negative numbers.\")\n",
        "else:\n",
        "\n",
        "    while num > 1:\n",
        "        factorial *= num\n",
        "        num -= 1\n",
        "\n",
        "    print(\"The factorial is:\", factorial)\n"
      ],
      "metadata": {
        "colab": {
          "base_uri": "https://localhost:8080/"
        },
        "id": "GK0XFyHLCxek",
        "outputId": "201919aa-f332-4e1d-d4c8-98c58471823f"
      },
      "execution_count": 20,
      "outputs": [
        {
          "output_type": "stream",
          "name": "stdout",
          "text": [
            "Enter a number: 458\n",
            "The factorial is: 31558612972732848195962088165060452962725279687046663105393999903323304169952611682865651645393421280420722606506218993066954719646651702892677775173715800913698684882354527997435769239386955037843076474999638393632721854444452389067259702907451597235149877727954079313542244508898054659724763317027896391801647990997688965012299141147629169118289352079290183685864157414436690916091756636546184601926428526040370371705924260743821590161502585889740284513056760550850222960023407067493552163256040177559330634900229807062247776118040898052904722356431819321044396447152215178722499399094446240445973231693591592528512671137419540166276433460035447275152173812845055162242773108961668084977384924332233161709385419710116813642746963289736181420676108553242062712849431714137421183675834118168270988564418928710515808529877566908903143921770591626873816869293486412467892599987520375781119996158147849538303426560000000000000000000000000000000000000000000000000000000000000000000000000000000000000000000000000000000000000000\n"
          ]
        }
      ]
    }
  ]
}